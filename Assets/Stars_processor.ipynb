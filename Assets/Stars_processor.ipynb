{
 "cells": [
  {
   "cell_type": "code",
   "execution_count": 2,
   "id": "4c710772-ffdb-4266-ae18-57900fc5c981",
   "metadata": {},
   "outputs": [],
   "source": [
    "import pandas as pd\n",
    "import matplotlib.pyplot as plt"
   ]
  },
  {
   "cell_type": "code",
   "execution_count": 2,
   "id": "552571ee-eb4b-4cd3-972f-7bf7e4af0ee9",
   "metadata": {},
   "outputs": [
    {
     "name": "stdout",
     "output_type": "stream",
     "text": [
      "             id          tyc          gaia  hyg  hip        hd  hr   gl bayer  \\\n",
      "0             1          NaN           NaN  0.0  NaN       NaN NaN  NaN   NaN   \n",
      "1             2   4669-731-1  2.443095e+18  NaN  NaN  224701.0 NaN  NaN   NaN   \n",
      "2             3      1-381-1           NaN  1.0  1.0  224700.0 NaN  NaN   NaN   \n",
      "3            14   2259-803-1  2.873721e+18  NaN  NaN       NaN NaN  NaN   NaN   \n",
      "4            21  5841-1155-1  2.341872e+18  2.0  2.0  224690.0 NaN  NaN   NaN   \n",
      "...         ...          ...           ...  ...  ...       ...  ..  ...   ...   \n",
      "330336  2552081    4289-26-1  2.016188e+18  NaN  NaN       NaN NaN  NaN   NaN   \n",
      "330337  2552089  4487-1146-1  2.227799e+18  NaN  NaN  224698.0 NaN  NaN   NaN   \n",
      "330338  2552100   5837-533-1  2.421128e+18  NaN  NaN       NaN NaN  NaN   NaN   \n",
      "330339  2552111  6411-1196-1  2.341838e+18  NaN  NaN  224691.0 NaN  NaN   NaN   \n",
      "330340  2552118  6988-1291-1  2.333400e+18  NaN  NaN  224694.0 NaN  NaN   NaN   \n",
      "\n",
      "        flam  ...      rv rv_src    pm_ra  pm_dec pm_src      vx      vy  \\\n",
      "0        NaN  ...     NaN  OTHER      NaN     NaN  OTHER     NaN     NaN   \n",
      "1        NaN  ... -17.371   G_R3   22.498 -11.301   G_R3 -19.904  54.306   \n",
      "2        NaN  ...     NaN      N   -5.200  -1.880    HYG   0.037  -5.418   \n",
      "3        NaN  ...  38.654   G_R3    9.265  -4.880   G_R3  42.830  35.891   \n",
      "4        NaN  ...   6.830   G_R3  179.805  -1.041   G_R3   6.375  31.807   \n",
      "...      ...  ...     ...    ...      ...     ...    ...     ...     ...   \n",
      "330336   NaN  ...     NaN      N   -3.681  -1.464   G_R3  18.272 -51.160   \n",
      "330337   NaN  ... -17.416   G_R3  -13.393 -15.211   G_R3  15.289 -18.917   \n",
      "330338   NaN  ...  28.259   G_R3   -5.140 -15.644   G_R3  24.590  -4.339   \n",
      "330339   NaN  ...  24.555   G_R3   70.164 -10.383   G_R3  19.501  70.668   \n",
      "330340   NaN  ...  -9.043   G_R3   19.219   1.469   G_R3  -5.918  58.495   \n",
      "\n",
      "            vz   spect spect_src  \n",
      "0          NaN    G2 V     OTHER  \n",
      "1      -25.490   G8 IV         T  \n",
      "2       -1.958    F3 V         T  \n",
      "3        4.105      K2         T  \n",
      "4       -2.454    K3 V         T  \n",
      "...        ...     ...       ...  \n",
      "330336  -8.919    A1IA         T  \n",
      "330337 -23.038      K0         T  \n",
      "330338 -19.176      F5         T  \n",
      "330339 -18.238   G8 IV         T  \n",
      "330340   8.161  K2 III         T  \n",
      "\n",
      "[330341 rows x 34 columns]\n"
     ]
    }
   ],
   "source": [
    "df = pd.read_csv(\"athyg_31_reduced_m10.csv\")\n",
    "print(df)"
   ]
  },
  {
   "cell_type": "code",
   "execution_count": 6,
   "id": "95195ddb-b95c-4b8b-80a6-233d46344a04",
   "metadata": {},
   "outputs": [
    {
     "name": "stdout",
     "output_type": "stream",
     "text": [
      "             id  hip       dist           x0     y0        z0  absmag     mag  \\\n",
      "0             1  NaN     0.0000     0.000005  0.000     0.000   4.850 -26.700   \n",
      "1             2  NaN   509.1956   506.856000  0.003   -48.754   0.705   9.239   \n",
      "2             3  1.0   219.7802   219.741000  0.003     4.177   2.390   9.100   \n",
      "3            14  NaN   817.1342   696.482000  0.041   427.341  -0.548   9.013   \n",
      "4            21  2.0    37.3164    35.176000  0.003   -12.456   6.411   9.270   \n",
      "...         ...  ...        ...          ...    ...       ...     ...     ...   \n",
      "330336  2552081  NaN  2931.5317  1284.928000 -0.424  2634.926  -2.594   9.741   \n",
      "330337  2552089  NaN   297.8780    88.998000 -0.027   284.272   0.791   8.161   \n",
      "330338  2552100  NaN   177.7927   173.282000 -0.047   -39.793   3.528   9.778   \n",
      "330339  2552111  NaN   212.4770   199.617000 -0.042   -72.797   2.917   9.554   \n",
      "330340  2552118  NaN   642.0524   568.439000 -0.101  -298.509   0.126   9.164   \n",
      "\n",
      "            vx      vy      vz   spect  \n",
      "0          NaN     NaN     NaN    G2 V  \n",
      "1      -19.904  54.306 -25.490   G8 IV  \n",
      "2        0.037  -5.418  -1.958    F3 V  \n",
      "3       42.830  35.891   4.105      K2  \n",
      "4        6.375  31.807  -2.454    K3 V  \n",
      "...        ...     ...     ...     ...  \n",
      "330336  18.272 -51.160  -8.919    A1IA  \n",
      "330337  15.289 -18.917 -23.038      K0  \n",
      "330338  24.590  -4.339 -19.176      F5  \n",
      "330339  19.501  70.668 -18.238   G8 IV  \n",
      "330340  -5.918  58.495   8.161  K2 III  \n",
      "\n",
      "[330341 rows x 12 columns]\n"
     ]
    }
   ],
   "source": [
    "columns_to_keep = ['id','hip', 'dist', 'x0', 'y0', 'z0', 'absmag', 'mag', 'vx', 'vy', 'vz', 'spect']\n",
    "df = df[columns_to_keep]\n",
    "\n",
    "print(df)"
   ]
  },
  {
   "cell_type": "code",
   "execution_count": 20,
   "id": "bac96f44-5218-4a23-a4cd-b179139c9502",
   "metadata": {},
   "outputs": [],
   "source": [
    "nan_check_columns = ['x0', 'y0', 'z0', 'vx', 'vy', 'vz', 'spect']\n",
    "\n",
    "# Check if any NaN values exist in the specified columns\n",
    "rows_with_nan = df[nan_check_columns].isna().any(axis=1)\n",
    "\n",
    "# Display rows with NaN values (if any)\n",
    "df_rows_with_nan = df[rows_with_nan]\n",
    "\n",
    "df['hip'].fillna(0, inplace=True)\n",
    "\n"
   ]
  },
  {
   "cell_type": "code",
   "execution_count": 21,
   "id": "5ae1e17c-357d-42fa-afe4-404be7d90032",
   "metadata": {},
   "outputs": [],
   "source": [
    "# Remove rows with NaN values in specific columns\n",
    "df = df.dropna(subset=nan_check_columns)\n",
    "df['spect'] = df['spect'].str[0]\n",
    "valid_spectral_classes = ['O', 'B', 'A', 'F', 'G', 'K', 'M']\n",
    "\n",
    "# Remove rows with invalid 'spect' values\n",
    "df = df[df['spect'].isin(valid_spectral_classes)]"
   ]
  },
  {
   "cell_type": "code",
   "execution_count": 22,
   "id": "2f383557-6954-4fe5-83ea-4a77c2c7a367",
   "metadata": {},
   "outputs": [
    {
     "name": "stdout",
     "output_type": "stream",
     "text": [
      "Number of rows where 'hip' is NaN: 0\n"
     ]
    }
   ],
   "source": [
    "nan_hip_count = df['hip'].isna().sum()\n",
    "\n",
    "# Display the count\n",
    "print(f\"Number of rows where 'hip' is NaN: {nan_hip_count}\")"
   ]
  },
  {
   "cell_type": "code",
   "execution_count": 23,
   "id": "6d39d04b-84a1-47c8-b9d1-1275cad26091",
   "metadata": {},
   "outputs": [
    {
     "name": "stdout",
     "output_type": "stream",
     "text": [
      "DataFrame has been exported to: processed_STAR_31_m10.csv\n"
     ]
    }
   ],
   "source": [
    "# Specify the path where you want to save the CSV file\n",
    "csv_file_path = 'processed_STAR_31_m10.csv'\n",
    "\n",
    "# Export the DataFrame to a CSV file\n",
    "df.to_csv(csv_file_path, index=False)\n",
    "\n",
    "# Display a message indicating the export is successful\n",
    "print(f'DataFrame has been exported to: {csv_file_path}')"
   ]
  },
  {
   "cell_type": "code",
   "execution_count": 32,
   "id": "1a31edeb-b79d-436b-901a-77a2a646e159",
   "metadata": {},
   "outputs": [
    {
     "name": "stdout",
     "output_type": "stream",
     "text": [
      "     hip_name  sy_pnum\n",
      "0       60202        1\n",
      "1       74793        1\n",
      "2      116076        1\n",
      "3       79248        2\n",
      "4       96901        1\n",
      "..        ...      ...\n",
      "714     67275        1\n",
      "715      8102        4\n",
      "716     34693        1\n",
      "717      7513        3\n",
      "718     97938        1\n",
      "\n",
      "[719 rows x 2 columns]\n"
     ]
    }
   ],
   "source": [
    "exo_df = pd.read_csv(\"StreamingAssets/processed_exoplanets.csv\")\n",
    "print(exo_df)"
   ]
  },
  {
   "cell_type": "code",
   "execution_count": 33,
   "id": "ef1f6c60-e28a-4f4b-8310-089a9cd62631",
   "metadata": {},
   "outputs": [
    {
     "name": "stdout",
     "output_type": "stream",
     "text": [
      "     hip_name  sy_pnum\n",
      "0       60202        1\n",
      "1       74793        1\n",
      "2      116076        1\n",
      "3       79248        2\n",
      "4       96901        1\n",
      "..        ...      ...\n",
      "714     67275        1\n",
      "715      8102        4\n",
      "716     34693        1\n",
      "717      7513        3\n",
      "718     97938        1\n",
      "\n",
      "[719 rows x 2 columns]\n"
     ]
    }
   ],
   "source": [
    "exo_df = exo_df.dropna(subset=['hip_name'])\n",
    "print(exo_df)"
   ]
  },
  {
   "cell_type": "code",
   "execution_count": 34,
   "id": "2aabac2d-c323-46a3-a5fc-dca55a888f4b",
   "metadata": {},
   "outputs": [
    {
     "name": "stdout",
     "output_type": "stream",
     "text": [
      "     hip_name  sy_pnum\n",
      "0       60202        1\n",
      "1       74793        1\n",
      "2      116076        1\n",
      "3       79248        2\n",
      "4       96901        1\n",
      "..        ...      ...\n",
      "714     67275        1\n",
      "715      8102        4\n",
      "716     34693        1\n",
      "717      7513        3\n",
      "718     97938        1\n",
      "\n",
      "[717 rows x 2 columns]\n"
     ]
    }
   ],
   "source": [
    "exo_df = exo_df.drop_duplicates(subset=['hip_name', 'sy_pnum'])\n",
    "print(exo_df)"
   ]
  },
  {
   "cell_type": "code",
   "execution_count": 36,
   "id": "94351817-f32e-471e-93d2-ed14d916f45d",
   "metadata": {},
   "outputs": [
    {
     "ename": "AttributeError",
     "evalue": "Can only use .str accessor with string values!",
     "output_type": "error",
     "traceback": [
      "\u001b[1;31m---------------------------------------------------------------------------\u001b[0m",
      "\u001b[1;31mAttributeError\u001b[0m                            Traceback (most recent call last)",
      "Cell \u001b[1;32mIn[36], line 1\u001b[0m\n\u001b[1;32m----> 1\u001b[0m exo_df[\u001b[38;5;124m'\u001b[39m\u001b[38;5;124mhip_name\u001b[39m\u001b[38;5;124m'\u001b[39m] \u001b[38;5;241m=\u001b[39m exo_df[\u001b[38;5;124m'\u001b[39m\u001b[38;5;124mhip_name\u001b[39m\u001b[38;5;124m'\u001b[39m]\u001b[38;5;241m.\u001b[39mstr\u001b[38;5;241m.\u001b[39mreplace(\u001b[38;5;124m'\u001b[39m\u001b[38;5;124mHIP \u001b[39m\u001b[38;5;124m'\u001b[39m, \u001b[38;5;124m'\u001b[39m\u001b[38;5;124m'\u001b[39m)\n\u001b[0;32m      3\u001b[0m \u001b[38;5;28mprint\u001b[39m(exo_df)\n",
      "File \u001b[1;32m~\\anaconda3\\envs\\Augmented_Env\\Lib\\site-packages\\pandas\\core\\generic.py:6204\u001b[0m, in \u001b[0;36mNDFrame.__getattr__\u001b[1;34m(self, name)\u001b[0m\n\u001b[0;32m   6197\u001b[0m \u001b[38;5;28;01mif\u001b[39;00m (\n\u001b[0;32m   6198\u001b[0m     name \u001b[38;5;129;01mnot\u001b[39;00m \u001b[38;5;129;01min\u001b[39;00m \u001b[38;5;28mself\u001b[39m\u001b[38;5;241m.\u001b[39m_internal_names_set\n\u001b[0;32m   6199\u001b[0m     \u001b[38;5;129;01mand\u001b[39;00m name \u001b[38;5;129;01mnot\u001b[39;00m \u001b[38;5;129;01min\u001b[39;00m \u001b[38;5;28mself\u001b[39m\u001b[38;5;241m.\u001b[39m_metadata\n\u001b[0;32m   6200\u001b[0m     \u001b[38;5;129;01mand\u001b[39;00m name \u001b[38;5;129;01mnot\u001b[39;00m \u001b[38;5;129;01min\u001b[39;00m \u001b[38;5;28mself\u001b[39m\u001b[38;5;241m.\u001b[39m_accessors\n\u001b[0;32m   6201\u001b[0m     \u001b[38;5;129;01mand\u001b[39;00m \u001b[38;5;28mself\u001b[39m\u001b[38;5;241m.\u001b[39m_info_axis\u001b[38;5;241m.\u001b[39m_can_hold_identifiers_and_holds_name(name)\n\u001b[0;32m   6202\u001b[0m ):\n\u001b[0;32m   6203\u001b[0m     \u001b[38;5;28;01mreturn\u001b[39;00m \u001b[38;5;28mself\u001b[39m[name]\n\u001b[1;32m-> 6204\u001b[0m \u001b[38;5;28;01mreturn\u001b[39;00m \u001b[38;5;28mobject\u001b[39m\u001b[38;5;241m.\u001b[39m\u001b[38;5;21m__getattribute__\u001b[39m(\u001b[38;5;28mself\u001b[39m, name)\n",
      "File \u001b[1;32m~\\anaconda3\\envs\\Augmented_Env\\Lib\\site-packages\\pandas\\core\\accessor.py:224\u001b[0m, in \u001b[0;36mCachedAccessor.__get__\u001b[1;34m(self, obj, cls)\u001b[0m\n\u001b[0;32m    221\u001b[0m \u001b[38;5;28;01mif\u001b[39;00m obj \u001b[38;5;129;01mis\u001b[39;00m \u001b[38;5;28;01mNone\u001b[39;00m:\n\u001b[0;32m    222\u001b[0m     \u001b[38;5;66;03m# we're accessing the attribute of the class, i.e., Dataset.geo\u001b[39;00m\n\u001b[0;32m    223\u001b[0m     \u001b[38;5;28;01mreturn\u001b[39;00m \u001b[38;5;28mself\u001b[39m\u001b[38;5;241m.\u001b[39m_accessor\n\u001b[1;32m--> 224\u001b[0m accessor_obj \u001b[38;5;241m=\u001b[39m \u001b[38;5;28mself\u001b[39m\u001b[38;5;241m.\u001b[39m_accessor(obj)\n\u001b[0;32m    225\u001b[0m \u001b[38;5;66;03m# Replace the property with the accessor object. Inspired by:\u001b[39;00m\n\u001b[0;32m    226\u001b[0m \u001b[38;5;66;03m# https://www.pydanny.com/cached-property.html\u001b[39;00m\n\u001b[0;32m    227\u001b[0m \u001b[38;5;66;03m# We need to use object.__setattr__ because we overwrite __setattr__ on\u001b[39;00m\n\u001b[0;32m    228\u001b[0m \u001b[38;5;66;03m# NDFrame\u001b[39;00m\n\u001b[0;32m    229\u001b[0m \u001b[38;5;28mobject\u001b[39m\u001b[38;5;241m.\u001b[39m\u001b[38;5;21m__setattr__\u001b[39m(obj, \u001b[38;5;28mself\u001b[39m\u001b[38;5;241m.\u001b[39m_name, accessor_obj)\n",
      "File \u001b[1;32m~\\anaconda3\\envs\\Augmented_Env\\Lib\\site-packages\\pandas\\core\\strings\\accessor.py:190\u001b[0m, in \u001b[0;36mStringMethods.__init__\u001b[1;34m(self, data)\u001b[0m\n\u001b[0;32m    187\u001b[0m \u001b[38;5;28;01mdef\u001b[39;00m \u001b[38;5;21m__init__\u001b[39m(\u001b[38;5;28mself\u001b[39m, data) \u001b[38;5;241m-\u001b[39m\u001b[38;5;241m>\u001b[39m \u001b[38;5;28;01mNone\u001b[39;00m:\n\u001b[0;32m    188\u001b[0m     \u001b[38;5;28;01mfrom\u001b[39;00m \u001b[38;5;21;01mpandas\u001b[39;00m\u001b[38;5;21;01m.\u001b[39;00m\u001b[38;5;21;01mcore\u001b[39;00m\u001b[38;5;21;01m.\u001b[39;00m\u001b[38;5;21;01marrays\u001b[39;00m\u001b[38;5;21;01m.\u001b[39;00m\u001b[38;5;21;01mstring_\u001b[39;00m \u001b[38;5;28;01mimport\u001b[39;00m StringDtype\n\u001b[1;32m--> 190\u001b[0m     \u001b[38;5;28mself\u001b[39m\u001b[38;5;241m.\u001b[39m_inferred_dtype \u001b[38;5;241m=\u001b[39m \u001b[38;5;28mself\u001b[39m\u001b[38;5;241m.\u001b[39m_validate(data)\n\u001b[0;32m    191\u001b[0m     \u001b[38;5;28mself\u001b[39m\u001b[38;5;241m.\u001b[39m_is_categorical \u001b[38;5;241m=\u001b[39m \u001b[38;5;28misinstance\u001b[39m(data\u001b[38;5;241m.\u001b[39mdtype, CategoricalDtype)\n\u001b[0;32m    192\u001b[0m     \u001b[38;5;28mself\u001b[39m\u001b[38;5;241m.\u001b[39m_is_string \u001b[38;5;241m=\u001b[39m \u001b[38;5;28misinstance\u001b[39m(data\u001b[38;5;241m.\u001b[39mdtype, StringDtype)\n",
      "File \u001b[1;32m~\\anaconda3\\envs\\Augmented_Env\\Lib\\site-packages\\pandas\\core\\strings\\accessor.py:244\u001b[0m, in \u001b[0;36mStringMethods._validate\u001b[1;34m(data)\u001b[0m\n\u001b[0;32m    241\u001b[0m inferred_dtype \u001b[38;5;241m=\u001b[39m lib\u001b[38;5;241m.\u001b[39minfer_dtype(values, skipna\u001b[38;5;241m=\u001b[39m\u001b[38;5;28;01mTrue\u001b[39;00m)\n\u001b[0;32m    243\u001b[0m \u001b[38;5;28;01mif\u001b[39;00m inferred_dtype \u001b[38;5;129;01mnot\u001b[39;00m \u001b[38;5;129;01min\u001b[39;00m allowed_types:\n\u001b[1;32m--> 244\u001b[0m     \u001b[38;5;28;01mraise\u001b[39;00m \u001b[38;5;167;01mAttributeError\u001b[39;00m(\u001b[38;5;124m\"\u001b[39m\u001b[38;5;124mCan only use .str accessor with string values!\u001b[39m\u001b[38;5;124m\"\u001b[39m)\n\u001b[0;32m    245\u001b[0m \u001b[38;5;28;01mreturn\u001b[39;00m inferred_dtype\n",
      "\u001b[1;31mAttributeError\u001b[0m: Can only use .str accessor with string values!"
     ]
    }
   ],
   "source": [
    "\n",
    "exo_df['hip_name'] = exo_df['hip_name'].str.replace('HIP ', '')\n",
    "\n",
    "print(exo_df)"
   ]
  },
  {
   "cell_type": "code",
   "execution_count": 30,
   "id": "0fb59b1f-1cf4-4652-95a6-de5821f6db79",
   "metadata": {},
   "outputs": [
    {
     "name": "stdout",
     "output_type": "stream",
     "text": [
      "DataFrame has been exported to: StreamingAssets/processed_exoplanets.csv\n"
     ]
    }
   ],
   "source": [
    "# Specify the path where you want to save the CSV file\n",
    "csv_file_path = 'StreamingAssets/processed_exoplanets_final.csv'\n",
    "\n",
    "# Export the DataFrame to a CSV file\n",
    "exo_df.to_csv(csv_file_path, index=False)\n",
    "\n",
    "# Display a message indicating the export is successful\n",
    "print(f'DataFrame has been exported to: {csv_file_path}')"
   ]
  },
  {
   "cell_type": "code",
   "execution_count": 37,
   "id": "05231ae2-bc30-41e5-8278-cf8c00659d00",
   "metadata": {},
   "outputs": [
    {
     "data": {
      "image/png": "[encoded data removed]",
      "text/plain": [
       "<Figure size 640x480 with 1 Axes>"
      ]
     },
     "metadata": {},
     "output_type": "display_data"
    }
   ],
   "source": [
    "plt.hist(exo_df['sy_pnum'], bins=range(min(exo_df['sy_pnum']), max(exo_df['sy_pnum']) + 1), edgecolor='black', alpha=0.7)\n",
    "plt.xlabel('Number of Planets')\n",
    "plt.ylabel('Frequency')\n",
    "plt.title('Histogram of Number of Planets')\n",
    "plt.xticks(range(min(exo_df['sy_pnum']), max(exo_df['sy_pnum']) + 1))\n",
    "plt.grid(True)\n",
    "plt.show()"
   ]
  },
  {
   "cell_type": "code",
   "execution_count": 3,
   "id": "607e2466-3d20-4c83-8f77-8d5e6059ba15",
   "metadata": {},
   "outputs": [
    {
     "name": "stdout",
     "output_type": "stream",
     "text": [
      "             id    hip       dist        x0     y0        z0  absmag     mag  \\\n",
      "0             1 -999.0     0.0000     0.000  0.000     0.000   4.850 -26.700   \n",
      "1             2    NaN   509.1956   506.856  0.003   -48.754   0.705   9.239   \n",
      "2             3    1.0   219.7802   219.741  0.003     4.177   2.390   9.100   \n",
      "3            14    NaN   817.1342   696.482  0.041   427.341  -0.548   9.013   \n",
      "4            21    2.0    37.3164    35.176  0.003   -12.456   6.411   9.270   \n",
      "...         ...    ...        ...       ...    ...       ...     ...     ...   \n",
      "272848  2552081    NaN  2931.5317  1284.928 -0.424  2634.926  -2.594   9.741   \n",
      "272849  2552089    NaN   297.8780    88.998 -0.027   284.272   0.791   8.161   \n",
      "272850  2552100    NaN   177.7927   173.282 -0.047   -39.793   3.528   9.778   \n",
      "272851  2552111    NaN   212.4770   199.617 -0.042   -72.797   2.917   9.554   \n",
      "272852  2552118    NaN   642.0524   568.439 -0.101  -298.509   0.126   9.164   \n",
      "\n",
      "                  vx        vy        vz spect  \n",
      "0       0.000000e+00  0.000000  0.000000     G  \n",
      "1      -2.030000e-05  0.000056 -0.000026     G  \n",
      "2       3.781445e-08 -0.000006 -0.000002     F  \n",
      "3       4.377278e-05  0.000037  0.000004     K  \n",
      "4       6.515328e-06  0.000033 -0.000003     K  \n",
      "...              ...       ...       ...   ...  \n",
      "272848  1.867421e-05 -0.000052 -0.000009     A  \n",
      "272849  1.562554e-05 -0.000019 -0.000023     K  \n",
      "272850  2.513128e-05 -0.000004 -0.000020     F  \n",
      "272851  1.993026e-05  0.000072 -0.000019     G  \n",
      "272852 -6.050000e-06  0.000060  0.000008     K  \n",
      "\n",
      "[272853 rows x 12 columns]\n"
     ]
    }
   ],
   "source": [
    "og_df = pd.read_csv(\"StreamingAssets/starData.csv\")\n",
    "print(og_df);"
   ]
  },
  {
   "cell_type": "code",
   "execution_count": 39,
   "id": "efb3ea8c-8482-48d2-80d5-3b8e17807d36",
   "metadata": {},
   "outputs": [
    {
     "name": "stdout",
     "output_type": "stream",
     "text": [
      "     hip_name  sy_pnum\n",
      "0       60202        1\n",
      "1       74793        1\n",
      "2      116076        1\n",
      "3       79248        2\n",
      "4       96901        1\n",
      "..        ...      ...\n",
      "714     67275        1\n",
      "715      8102        4\n",
      "716     34693        1\n",
      "717      7513        3\n",
      "718     97938        1\n",
      "\n",
      "[717 rows x 2 columns]\n"
     ]
    }
   ],
   "source": [
    "\n",
    "exo_df['hip_name'] = exo_df['hip_name'].astype('int64')\n",
    "print(exo_df)"
   ]
  },
  {
   "cell_type": "code",
   "execution_count": 42,
   "id": "e4f792aa-6260-4848-885f-997284823a7e",
   "metadata": {},
   "outputs": [
    {
     "name": "stdout",
     "output_type": "stream",
     "text": [
      "             id  hip       dist           x0     y0        z0  absmag     mag  \\\n",
      "0             1    0     0.0000     0.000005  0.000     0.000   4.850 -26.700   \n",
      "1             2    0   509.1956   506.856000  0.003   -48.754   0.705   9.239   \n",
      "2             3    1   219.7802   219.741000  0.003     4.177   2.390   9.100   \n",
      "3            14    0   817.1342   696.482000  0.041   427.341  -0.548   9.013   \n",
      "4            21    2    37.3164    35.176000  0.003   -12.456   6.411   9.270   \n",
      "...         ...  ...        ...          ...    ...       ...     ...     ...   \n",
      "272848  2552081    0  2931.5317  1284.928000 -0.424  2634.926  -2.594   9.741   \n",
      "272849  2552089    0   297.8780    88.998000 -0.027   284.272   0.791   8.161   \n",
      "272850  2552100    0   177.7927   173.282000 -0.047   -39.793   3.528   9.778   \n",
      "272851  2552111    0   212.4770   199.617000 -0.042   -72.797   2.917   9.554   \n",
      "272852  2552118    0   642.0524   568.439000 -0.101  -298.509   0.126   9.164   \n",
      "\n",
      "            vx      vy      vz spect  sy_pnum  \n",
      "0        0.000   0.000   0.000     G      0.0  \n",
      "1      -19.904  54.306 -25.490     G      0.0  \n",
      "2        0.037  -5.418  -1.958     F      0.0  \n",
      "3       42.830  35.891   4.105     K      0.0  \n",
      "4        6.375  31.807  -2.454     K      0.0  \n",
      "...        ...     ...     ...   ...      ...  \n",
      "272848  18.272 -51.160  -8.919     A      0.0  \n",
      "272849  15.289 -18.917 -23.038     K      0.0  \n",
      "272850  24.590  -4.339 -19.176     F      0.0  \n",
      "272851  19.501  70.668 -18.238     G      0.0  \n",
      "272852  -5.918  58.495   8.161     K      0.0  \n",
      "\n",
      "[272853 rows x 13 columns]\n"
     ]
    }
   ],
   "source": [
    "merged_df = pd.merge(og_df, exo_df, left_on='hip', right_on='hip_name', how='left')\n",
    "merged_df.drop('hip_name', axis=1, inplace=True)\n",
    "merged_df['sy_pnum'].fillna(0, inplace=True)\n",
    "print(merged_df);"
   ]
  },
  {
   "cell_type": "code",
   "execution_count": 43,
   "id": "42355244-20a7-4ec2-b98f-8e1b8abff2a0",
   "metadata": {},
   "outputs": [
    {
     "name": "stdout",
     "output_type": "stream",
     "text": [
      "DataFrame has been exported to: StreamingAssets/final_starlight_dataset.csv\n"
     ]
    }
   ],
   "source": [
    "# Specify the path where you want to save the CSV file\n",
    "csv_file_path = 'StreamingAssets/really_final_starlight_dataset.csv'\n",
    "\n",
    "# Export the DataFrame to a CSV file\n",
    "merged_df.to_csv(csv_file_path, index=False)\n",
    "\n",
    "# Display a message indicating the export is successful\n",
    "print(f'DataFrame has been exported to: {csv_file_path}')"
   ]
  },
  {
   "cell_type": "code",
   "execution_count": null,
   "id": "2b8e73cd-623a-40a0-af4a-9ebc4d97de61",
   "metadata": {},
   "outputs": [],
   "source": []
  }
 ],
 "metadata": {
  "kernelspec": {
   "display_name": "Python 3 (ipykernel)",
   "language": "python",
   "name": "python3"
  },
  "language_info": {
   "codemirror_mode": {
    "name": "ipython",
    "version": 3
   },
   "file_extension": ".py",
   "mimetype": "text/x-python",
   "name": "python",
   "nbconvert_exporter": "python",
   "pygments_lexer": "ipython3",
   "version": "3.11.5"
  }
 },
 "nbformat": 4,
 "nbformat_minor": 5
}
